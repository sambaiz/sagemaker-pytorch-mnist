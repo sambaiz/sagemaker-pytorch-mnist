{
 "cells": [
  {
   "cell_type": "code",
   "execution_count": 195,
   "metadata": {},
   "outputs": [
    {
     "name": "stdout",
     "output_type": "stream",
     "text": [
      "Requirement already satisfied: sagemaker-experiments in /opt/conda/lib/python3.7/site-packages (0.1.20)\n",
      "Requirement already satisfied: boto3>=1.12.8 in /opt/conda/lib/python3.7/site-packages (from sagemaker-experiments) (1.14.17)\n",
      "Requirement already satisfied: botocore<1.18.0,>=1.17.17 in /opt/conda/lib/python3.7/site-packages (from boto3>=1.12.8->sagemaker-experiments) (1.17.17)\n",
      "Requirement already satisfied: s3transfer<0.4.0,>=0.3.0 in /opt/conda/lib/python3.7/site-packages (from boto3>=1.12.8->sagemaker-experiments) (0.3.3)\n",
      "Requirement already satisfied: jmespath<1.0.0,>=0.7.1 in /opt/conda/lib/python3.7/site-packages (from boto3>=1.12.8->sagemaker-experiments) (0.10.0)\n",
      "Requirement already satisfied: python-dateutil<3.0.0,>=2.1 in /opt/conda/lib/python3.7/site-packages (from botocore<1.18.0,>=1.17.17->boto3>=1.12.8->sagemaker-experiments) (2.8.1)\n",
      "Requirement already satisfied: urllib3<1.26,>=1.20; python_version != \"3.4\" in /opt/conda/lib/python3.7/site-packages (from botocore<1.18.0,>=1.17.17->boto3>=1.12.8->sagemaker-experiments) (1.25.8)\n",
      "Requirement already satisfied: docutils<0.16,>=0.10 in /opt/conda/lib/python3.7/site-packages (from botocore<1.18.0,>=1.17.17->boto3>=1.12.8->sagemaker-experiments) (0.15.2)\n",
      "Requirement already satisfied: six>=1.5 in /opt/conda/lib/python3.7/site-packages (from python-dateutil<3.0.0,>=2.1->botocore<1.18.0,>=1.17.17->boto3>=1.12.8->sagemaker-experiments) (1.14.0)\n",
      "Requirement already satisfied: torch in /opt/conda/lib/python3.7/site-packages (1.5.1)\n",
      "Requirement already satisfied: numpy in /opt/conda/lib/python3.7/site-packages (from torch) (1.18.1)\n",
      "Requirement already satisfied: future in /opt/conda/lib/python3.7/site-packages (from torch) (0.18.2)\n",
      "Requirement already satisfied: torchvision in /opt/conda/lib/python3.7/site-packages (0.6.1)\n",
      "Requirement already satisfied: torch==1.5.1 in /opt/conda/lib/python3.7/site-packages (from torchvision) (1.5.1)\n",
      "Requirement already satisfied: numpy in /opt/conda/lib/python3.7/site-packages (from torchvision) (1.18.1)\n",
      "Requirement already satisfied: pillow>=4.1.1 in /opt/conda/lib/python3.7/site-packages (from torchvision) (7.0.0)\n",
      "Requirement already satisfied: future in /opt/conda/lib/python3.7/site-packages (from torch==1.5.1->torchvision) (0.18.2)\n",
      "Reading package lists... Done\n",
      "Building dependency tree       \n",
      "Reading state information... Done\n",
      "make is already the newest version (4.2.1-1.2).\n",
      "0 upgraded, 0 newly installed, 0 to remove and 15 not upgraded.\n",
      "python download_datasets.py\n",
      "python upload_datasets.py\n"
     ]
    }
   ],
   "source": [
    "import sys\n",
    "!{sys.executable} -m pip install sagemaker-experiments\n",
    "!{sys.executable} -m pip install torch\n",
    "!{sys.executable} -m pip install torchvision\n",
    "!apt-get install -y make\n",
    "\n",
    "import os\n",
    "sess = boto3.Session()\n",
    "account_id = sess.client('sts').get_caller_identity()[\"Account\"]\n",
    "os.environ['DATASETS_BUCKET'] = f'sagemaker-test-mnist-{sess.region_name}-{account_id}'\n",
    "os.environ['DATASETS_KEY_PREFIX'] = 'mnist'\n",
    "!make upload_datasets"
   ]
  },
  {
   "cell_type": "code",
   "execution_count": null,
   "metadata": {},
   "outputs": [],
   "source": [
    "from sagemaker.pytorch import PyTorch\n",
    "import sagemaker\n",
    "\n",
    "estimator = PyTorch(\n",
    "    source_dir='/root/sagemaker-pytorch-mnist',\n",
    "    entry_point='training.py',\n",
    "    output_path=f's3://{os.environ[\"DATASETS_BUCKET\"]}/artifacts',\n",
    "    role=sagemaker.get_execution_role(),\n",
    "    framework_version='1.3.1',\n",
    "    py_version='py3',\n",
    "    train_instance_count=2,\n",
    "    train_instance_type='ml.g4dn.xlarge',\n",
    "    hyperparameters={\n",
    "        'epochs': 10,\n",
    "        'backend': 'gloo',\n",
    "        'dropout': 0.2,\n",
    "    },\n",
    "    metric_definitions=[\n",
    "        {'Name':'test:accuracy', 'Regex':'test accuracy: (.*?),'},\n",
    "        {'Name':'test:loss', 'Regex':'test loss: (.*?);'}\n",
    "    ],\n",
    "    enable_sagemaker_metrics=True,\n",
    ")\n",
    "\n",
    "inputs = sagemaker.inputs.s3_input(f's3://{os.environ[\"DATASETS_BUCKET\"]}/{os.environ[\"DATASETS_KEY_PREFIX\"]}')\n",
    "\n",
    "estimator.fit(inputs={'training': inputs})"
   ]
  },
  {
   "cell_type": "code",
   "execution_count": 204,
   "metadata": {},
   "outputs": [
    {
     "name": "stderr",
     "output_type": "stream",
     "text": [
      "Parameter image will be renamed to image_uri in SageMaker Python SDK v2.\n",
      "'create_image_uri' will be deprecated in favor of 'ImageURIProvider' class in SageMaker Python SDK v2.\n"
     ]
    },
    {
     "name": "stdout",
     "output_type": "stream",
     "text": [
      "-----------------!"
     ]
    },
    {
     "data": {
      "text/plain": [
       "<sagemaker.pytorch.model.PyTorchPredictor at 0x7f6ee7bd66d0>"
      ]
     },
     "execution_count": 204,
     "metadata": {},
     "output_type": "execute_result"
    }
   ],
   "source": [
    "from sagemaker.pytorch.model import PyTorchModel\n",
    "\n",
    "training_job_name = 'pytorch-training-2020-07-25-08-41-45-674'\n",
    "training_job = sess.client('sagemaker').describe_training_job(TrainingJobName=training_job_name)\n",
    "model = PyTorchModel(model_data=training_job['ModelArtifacts']['S3ModelArtifacts'], \n",
    "                     role=sagemaker.get_execution_role(),\n",
    "                     framework_version='1.3.1',\n",
    "                     py_version='py3',\n",
    "                     source_dir='/root/sagemaker-pytorch-mnist',\n",
    "                     entry_point='inference.py')\n",
    "\n",
    "model.deploy(instance_type='ml.c4.xlarge', initial_instance_count=1, endpoint_name='pytorch-mnist-test', accelerator_type='ml.eia2.medium')"
   ]
  },
  {
   "cell_type": "code",
   "execution_count": 206,
   "metadata": {},
   "outputs": [
    {
     "name": "stdout",
     "output_type": "stream",
     "text": [
      "[[7]]\n",
      "7\n"
     ]
    }
   ],
   "source": [
    "from torchvision import datasets, transforms\n",
    "\n",
    "dataset = datasets.MNIST('mnist', train=False, transform=transforms.ToTensor(), download=False)\n",
    "result = predictor.predict(dataset[0][0].view(-1, 1, 28, 28))\n",
    "print(result) # [[7]]\n",
    "print(dataset[0][1]) # 7"
   ]
  },
  {
   "cell_type": "code",
   "execution_count": 207,
   "metadata": {},
   "outputs": [],
   "source": [
    "predictor.delete_endpoint()\n",
    "predictor.delete_model()"
   ]
  },
  {
   "cell_type": "code",
   "execution_count": null,
   "metadata": {},
   "outputs": [],
   "source": []
  }
 ],
 "metadata": {
  "instance_type": "ml.t3.medium",
  "kernelspec": {
   "display_name": "Python 3 (Data Science)",
   "language": "python",
   "name": "python3__SAGEMAKER_INTERNAL__arn:aws:sagemaker:us-east-1:081325390199:image/datascience-1.0"
  },
  "language_info": {
   "codemirror_mode": {
    "name": "ipython",
    "version": 3
   },
   "file_extension": ".py",
   "mimetype": "text/x-python",
   "name": "python",
   "nbconvert_exporter": "python",
   "pygments_lexer": "ipython3",
   "version": "3.7.6"
  }
 },
 "nbformat": 4,
 "nbformat_minor": 4
}
